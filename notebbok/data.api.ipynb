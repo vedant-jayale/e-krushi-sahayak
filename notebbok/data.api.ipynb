{
 "cells": [
  {
   "cell_type": "code",
   "execution_count": 31,
   "id": "dde521f0",
   "metadata": {},
   "outputs": [
    {
     "name": "stdout",
     "output_type": "stream",
     "text": [
      "{'created': 1627939168, 'updated': 1717730878, 'created_date': '2021-08-02T21:19:28Z', 'updated_date': '2024-06-07T08:57:58Z', 'active': '1', 'index_name': '9ef84268-d588-465a-a308-a864a43d0070', 'org': ['Ministry of Agriculture and Farmers Welfare', 'Department of Agriculture and Farmers Welfare'], 'org_type': 'Central', 'source': 'data.gov.in', 'title': 'Current Daily Price of Various Commodities from Various Markets (Mandi)', 'external_ws_url': '', 'visualizable': '1', 'field': [{'name': 'State', 'id': 'state', 'type': 'keyword'}, {'name': 'District', 'id': 'district', 'type': 'keyword'}, {'name': 'Market', 'id': 'market', 'type': 'keyword'}, {'name': 'Commodity', 'id': 'commodity', 'type': 'keyword'}, {'name': 'Variety', 'id': 'variety', 'type': 'keyword'}, {'name': 'Grade', 'id': 'grade', 'type': 'keyword'}, {'name': 'Arrival_Date', 'id': 'arrival_date', 'type': 'date'}, {'name': 'Min_x0020_Price', 'id': 'min_price', 'type': 'double'}, {'name': 'Max_x0020_Price', 'id': 'max_price', 'type': 'double'}, {'name': 'Modal_x0020_Price', 'id': 'modal_price', 'type': 'double'}], 'external_ws': 0, 'catalog_uuid': '6141ea17-a69d-4713-b600-0a43c8fd9a6c', 'sector': ['Agriculture', 'Agricultural Marketing'], 'target_bucket': {'field': '9ef84268-d588-465a-a308-a864a43d0070', 'index': 'daily_mandi_price', 'type': '6141ea17-a69d-4713-b600-0a43c8fd9a6c'}, 'desc': 'Current Daily Price of Various Commodities from Various Markets (Mandi)', 'field_exposed': [{'name': 'State', 'id': 'state.keyword', 'type': 'keyword'}, {'name': 'District', 'id': 'district', 'type': 'keyword'}, {'name': 'Market', 'id': 'market', 'type': 'keyword'}, {'name': 'Commodity', 'id': 'commodity', 'type': 'keyword'}, {'name': 'Variety', 'id': 'variety', 'type': 'keyword'}, {'name': 'Grade', 'id': 'grade', 'type': 'keyword'}], 'message': 'Resource lists', 'version': '2.2.0', 'status': 'ok', 'total': 3, 'count': 3, 'limit': 10, 'offset': '0', 'records': [{'state': 'Maharashtra', 'district': 'Raigad', 'market': 'Alibagh', 'commodity': 'Rice', 'variety': 'Other', 'grade': 'FAQ', 'arrival_date': '11/07/2024', 'min_price': '1000', 'max_price': '1500', 'modal_price': '1200'}, {'state': 'Maharashtra', 'district': 'Buldhana', 'market': 'Sangrampur(Varvatbakal)', 'commodity': 'Jowar(Sorghum)', 'variety': 'Other', 'grade': 'FAQ', 'arrival_date': '11/07/2024', 'min_price': '2000', 'max_price': '2300', 'modal_price': '2250'}, {'state': 'Maharashtra', 'district': 'Raigad', 'market': 'Murud', 'commodity': 'Rice', 'variety': 'Other', 'grade': 'FAQ', 'arrival_date': '11/07/2024', 'min_price': '1000', 'max_price': '1500', 'modal_price': '1200'}]}\n"
     ]
    }
   ],
   "source": [
    "import pandas as pd\n",
    "import requests\n",
    "\n",
    "# URL and parameters for the API request\n",
    "api_url = \"https://api.data.gov.in/resource/9ef84268-d588-465a-a308-a864a43d0070\"\n",
    "params = {\n",
    "    \"api-key\": \"579b464db66ec23bdd000001cdd3946e44ce4aad7209ff7b23ac571b\",\n",
    "    \"format\": \"json\",\n",
    "    \"limit\": 10000,\n",
    "    \"filters[state.keyword]\": \"Maharashtra\"\n",
    "}\n",
    "\n",
    "# Make the API request\n",
    "response = requests.get(api_url, params=params)\n",
    "data = response.json()\n",
    "\n",
    "print(data)"
   ]
  },
  {
   "cell_type": "code",
   "execution_count": null,
   "id": "ae29a794",
   "metadata": {},
   "outputs": [],
   "source": []
  },
  {
   "cell_type": "code",
   "execution_count": null,
   "id": "9ff869ec",
   "metadata": {},
   "outputs": [],
   "source": []
  },
  {
   "cell_type": "code",
   "execution_count": null,
   "id": "59bd6bca",
   "metadata": {},
   "outputs": [],
   "source": []
  }
 ],
 "metadata": {
  "kernelspec": {
   "display_name": "Python 3 (ipykernel)",
   "language": "python",
   "name": "python3"
  },
  "language_info": {
   "codemirror_mode": {
    "name": "ipython",
    "version": 3
   },
   "file_extension": ".py",
   "mimetype": "text/x-python",
   "name": "python",
   "nbconvert_exporter": "python",
   "pygments_lexer": "ipython3",
   "version": "3.11.5"
  }
 },
 "nbformat": 4,
 "nbformat_minor": 5
}
